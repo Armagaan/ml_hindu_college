{
 "cells": [
  {
   "cell_type": "markdown",
   "metadata": {},
   "source": [
    "# File IO"
   ]
  },
  {
   "cell_type": "code",
   "execution_count": 69,
   "metadata": {},
   "outputs": [],
   "source": [
    "import glob\n",
    "import os\n",
    "import shutil\n",
    "\n",
    "PATH = \"my_directory/\""
   ]
  },
  {
   "cell_type": "markdown",
   "metadata": {},
   "source": [
    "## List the contents of a directory"
   ]
  },
  {
   "cell_type": "code",
   "execution_count": 70,
   "metadata": {},
   "outputs": [
    {
     "name": "stdout",
     "output_type": "stream",
     "text": [
      "sub_dir\n",
      "file3.txt\n",
      "sub_dir_b\n",
      "sub_dir_c\n",
      "file2.csv\n",
      "file1.py\n"
     ]
    }
   ],
   "source": [
    "with os.scandir(PATH) as entries:\n",
    "    for e in entries:\n",
    "        print(e.name)"
   ]
  },
  {
   "cell_type": "markdown",
   "metadata": {},
   "source": [
    "## Filter files & directories"
   ]
  },
  {
   "cell_type": "code",
   "execution_count": 71,
   "metadata": {},
   "outputs": [
    {
     "name": "stdout",
     "output_type": "stream",
     "text": [
      "file3.txt\n",
      "file2.csv\n",
      "file1.py\n"
     ]
    }
   ],
   "source": [
    "with os.scandir(PATH) as entries:\n",
    "    for e in entries:\n",
    "        if e.is_file():\n",
    "            print(e.name)"
   ]
  },
  {
   "cell_type": "code",
   "execution_count": 72,
   "metadata": {},
   "outputs": [
    {
     "name": "stdout",
     "output_type": "stream",
     "text": [
      "sub_dir\n",
      "sub_dir_b\n",
      "sub_dir_c\n"
     ]
    }
   ],
   "source": [
    "with os.scandir(PATH) as entries:\n",
    "    for e in entries:\n",
    "        if e.is_dir():\n",
    "            print(e.name)"
   ]
  },
  {
   "cell_type": "markdown",
   "metadata": {},
   "source": [
    "## Making files & directories"
   ]
  },
  {
   "cell_type": "code",
   "execution_count": 73,
   "metadata": {},
   "outputs": [],
   "source": [
    "PATH = \"2024/Jan/23\""
   ]
  },
  {
   "cell_type": "code",
   "execution_count": 74,
   "metadata": {},
   "outputs": [],
   "source": [
    "os.makedirs(PATH)\n",
    "\n",
    "# Won't throw an error.\n",
    "os.makedirs(PATH, exist_ok=True)\n",
    "\n",
    "# ! Will throw an error.\n",
    "# os.makedirs(\"2024/Jan/23\")"
   ]
  },
  {
   "cell_type": "code",
   "execution_count": 75,
   "metadata": {},
   "outputs": [],
   "source": [
    "with open(f\"{PATH}/file.txt\", \"w\") as writer:\n",
    "    pass"
   ]
  },
  {
   "cell_type": "markdown",
   "metadata": {},
   "source": [
    "## Deleting files and directories"
   ]
  },
  {
   "cell_type": "code",
   "execution_count": 76,
   "metadata": {},
   "outputs": [],
   "source": [
    "# Delete a file\n",
    "os.remove(f\"{PATH}/file.txt\")"
   ]
  },
  {
   "cell_type": "code",
   "execution_count": 77,
   "metadata": {},
   "outputs": [],
   "source": [
    "# Delete a directory\n",
    "shutil.rmtree(\"2024/\")"
   ]
  },
  {
   "cell_type": "markdown",
   "metadata": {},
   "source": [
    "## Filename pattern matching\n",
    "Use `glob` whenever matching patterns."
   ]
  },
  {
   "cell_type": "code",
   "execution_count": 78,
   "metadata": {},
   "outputs": [],
   "source": [
    "# returns a list\n",
    "for file in glob.glob(PATH + \"/*.py\"):\n",
    "    print(file)"
   ]
  },
  {
   "cell_type": "code",
   "execution_count": 79,
   "metadata": {},
   "outputs": [],
   "source": [
    "# returns an iterator\n",
    "for file in glob.iglob(PATH + \"/*.py\"):\n",
    "    print(file)"
   ]
  },
  {
   "cell_type": "markdown",
   "metadata": {},
   "source": [
    "### Recursive pattern matching"
   ]
  },
  {
   "cell_type": "code",
   "execution_count": 80,
   "metadata": {},
   "outputs": [],
   "source": [
    "for file in glob.iglob(PATH + \"/**/*.py\", recursive=True):\n",
    "    print(file)"
   ]
  },
  {
   "cell_type": "markdown",
   "metadata": {},
   "source": [
    "## Traversing directories"
   ]
  },
  {
   "cell_type": "code",
   "execution_count": 81,
   "metadata": {},
   "outputs": [],
   "source": [
    "PATH = \"walk_vs_glob\""
   ]
  },
  {
   "cell_type": "code",
   "execution_count": 82,
   "metadata": {},
   "outputs": [
    {
     "name": "stdout",
     "output_type": "stream",
     "text": [
      "\n",
      "Directory: walk_vs_glob\n",
      "file_1.txt\n",
      "file_2.txt\n",
      "\n",
      "Directory: walk_vs_glob/dir_2\n",
      "file_4.txt\n",
      "file_3.txt\n",
      "\n",
      "Directory: walk_vs_glob/dir_1\n",
      "file_5.txt\n",
      "\n",
      "Directory: walk_vs_glob/dir_1/dir_3\n"
     ]
    }
   ],
   "source": [
    "# os.walk() returns three values on each iteration of the loop.\n",
    "for dirpath, dirnames, files in os.walk(PATH):\n",
    "    print(f\"\\nDirectory: {dirpath}\")\n",
    "    for file_name in files:\n",
    "        print(file_name)"
   ]
  },
  {
   "cell_type": "markdown",
   "metadata": {},
   "source": [
    "### Why not use glob for it?\n",
    "It does not give you control over individual subdirectories."
   ]
  },
  {
   "cell_type": "code",
   "execution_count": 83,
   "metadata": {},
   "outputs": [
    {
     "name": "stdout",
     "output_type": "stream",
     "text": [
      "walk_vs_glob/file_1.txt\n",
      "walk_vs_glob/file_2.txt\n",
      "walk_vs_glob/dir_2\n",
      "walk_vs_glob/dir_1\n",
      "walk_vs_glob/dir_2/file_4.txt\n",
      "walk_vs_glob/dir_2/file_3.txt\n",
      "walk_vs_glob/dir_1/file_5.txt\n",
      "walk_vs_glob/dir_1/dir_3\n"
     ]
    }
   ],
   "source": [
    "for entry in glob.iglob(PATH + \"/**/*\", recursive=True):\n",
    "    print(entry)"
   ]
  },
  {
   "cell_type": "markdown",
   "metadata": {},
   "source": [
    "## Copying, moving, and renaming files & directories"
   ]
  },
  {
   "cell_type": "code",
   "execution_count": 84,
   "metadata": {},
   "outputs": [],
   "source": [
    "PATH = \"copy_move_rename\""
   ]
  },
  {
   "cell_type": "code",
   "execution_count": 85,
   "metadata": {},
   "outputs": [],
   "source": [
    "### Setup cell\n",
    "os.makedirs(f\"{PATH}/dir_1\", exist_ok=True)\n",
    "os.makedirs(f\"{PATH}/dir_2\", exist_ok=True)\n",
    "os.makedirs(f\"{PATH}/dir_3\", exist_ok=True)\n",
    "\n",
    "with open(f\"{PATH}/dir_1/file.txt\", \"w\") as file:\n",
    "    pass\n",
    "\n",
    "with open(f\"{PATH}/dir_3/file.txt\", \"w\") as file:\n",
    "    pass"
   ]
  },
  {
   "cell_type": "markdown",
   "metadata": {},
   "source": [
    "### Copy"
   ]
  },
  {
   "cell_type": "code",
   "execution_count": 86,
   "metadata": {},
   "outputs": [
    {
     "data": {
      "text/plain": [
       "'copy_move_rename/dir_2/copy2.txt'"
      ]
     },
     "execution_count": 86,
     "metadata": {},
     "output_type": "execute_result"
    }
   ],
   "source": [
    "src = f\"{PATH}/dir_1/file.txt\"\n",
    "dst = f\"{PATH}/dir_2/copy.txt\"\n",
    "dst2 = f\"{PATH}/dir_2/copy2.txt\"\n",
    "\n",
    "# Filename will be copied if not supplied.\n",
    "# dst = f\"{PATH}/dir_2/\"\n",
    "\n",
    "shutil.copy(src, dst)\n",
    "shutil.copy2(src, dst2) # copy2 will have the same timestamp as file_1.txt"
   ]
  },
  {
   "cell_type": "code",
   "execution_count": 87,
   "metadata": {},
   "outputs": [
    {
     "data": {
      "text/plain": [
       "'copy_move_rename/copy'"
      ]
     },
     "execution_count": 87,
     "metadata": {},
     "output_type": "execute_result"
    }
   ],
   "source": [
    "src = f\"{PATH}/dir_1/\"\n",
    "dst = f\"{PATH}/copy\"\n",
    "\n",
    "# dirs_exist_ok (same as exist_ok in os.makedirs)\n",
    "shutil.copytree(src, dst, dirs_exist_ok=True)"
   ]
  },
  {
   "cell_type": "markdown",
   "metadata": {},
   "source": [
    "### Move"
   ]
  },
  {
   "cell_type": "code",
   "execution_count": 88,
   "metadata": {},
   "outputs": [],
   "source": [
    "### Setup cell\n",
    "try:\n",
    "    shutil.rmtree(f\"{PATH}/moved/dir_1\")\n",
    "except:\n",
    "    pass"
   ]
  },
  {
   "cell_type": "code",
   "execution_count": 89,
   "metadata": {},
   "outputs": [
    {
     "data": {
      "text/plain": [
       "'copy_move_rename/moved/dir_1'"
      ]
     },
     "execution_count": 89,
     "metadata": {},
     "output_type": "execute_result"
    }
   ],
   "source": [
    "src = f\"{PATH}/dir_1/\"\n",
    "dst = f\"{PATH}/moved/\"\n",
    "\n",
    "# If dst does not exist, then \"moved\" directory is saved at PATH.\n",
    "# If dst exists, \"moved\" directory is saved inside the existing \"moved\" directory.\n",
    "# If \"moved/moved\" also exists, then it'll throw an error.\n",
    "\n",
    "# dirs_exist_ok (same as exist_ok in os.makedirs)\n",
    "shutil.move(src, dst)"
   ]
  },
  {
   "cell_type": "markdown",
   "metadata": {},
   "source": [
    "### Rename"
   ]
  },
  {
   "cell_type": "code",
   "execution_count": 90,
   "metadata": {},
   "outputs": [],
   "source": [
    "current_name = f\"{PATH}/dir_3/file.txt\"\n",
    "new_name = f\"{PATH}/dir_3/renamed.txt\"\n",
    "\n",
    "os.rename(current_name, new_name)"
   ]
  },
  {
   "cell_type": "markdown",
   "metadata": {},
   "source": [
    "## Archive"
   ]
  },
  {
   "cell_type": "code",
   "execution_count": 96,
   "metadata": {},
   "outputs": [
    {
     "data": {
      "text/plain": [
       "'/Users/armagaan/Documents/code/rough/zip_file_1.zip'"
      ]
     },
     "execution_count": 96,
     "metadata": {},
     "output_type": "execute_result"
    }
   ],
   "source": [
    "shutil.make_archive(\n",
    "    format=\"zip\",\n",
    "    base_name=\"zip_file_1\",\n",
    "    root_dir=\".\",\n",
    "    base_dir=\"walk_vs_glob/dir_2\"\n",
    ")"
   ]
  },
  {
   "cell_type": "code",
   "execution_count": 97,
   "metadata": {},
   "outputs": [
    {
     "data": {
      "text/plain": [
       "'/Users/armagaan/Documents/code/rough/zip_file_2.zip'"
      ]
     },
     "execution_count": 97,
     "metadata": {},
     "output_type": "execute_result"
    }
   ],
   "source": [
    "shutil.make_archive(\n",
    "    format=\"zip\",\n",
    "    base_name=\"zip_file_2\",\n",
    "    root_dir=\"walk_vs_glob\",\n",
    "    base_dir=\"dir_2\"\n",
    ")"
   ]
  },
  {
   "cell_type": "code",
   "execution_count": 98,
   "metadata": {},
   "outputs": [],
   "source": [
    "shutil.unpack_archive(\n",
    "    filename=\"zip_file_1.zip\",\n",
    "    extract_dir=\"unzipped_1\",\n",
    "    format=\"zip\"\n",
    ")"
   ]
  },
  {
   "cell_type": "code",
   "execution_count": 99,
   "metadata": {},
   "outputs": [],
   "source": [
    "shutil.unpack_archive(\n",
    "    filename=\"zip_file_2.zip\",\n",
    "    extract_dir=\"unzipped_2\",\n",
    "    format=\"zip\"\n",
    ")"
   ]
  },
  {
   "cell_type": "code",
   "execution_count": null,
   "metadata": {},
   "outputs": [],
   "source": []
  }
 ],
 "metadata": {
  "kernelspec": {
   "display_name": ".venv",
   "language": "python",
   "name": "python3"
  },
  "language_info": {
   "codemirror_mode": {
    "name": "ipython",
    "version": 3
   },
   "file_extension": ".py",
   "mimetype": "text/x-python",
   "name": "python",
   "nbconvert_exporter": "python",
   "pygments_lexer": "ipython3",
   "version": "3.9.6"
  }
 },
 "nbformat": 4,
 "nbformat_minor": 2
}
