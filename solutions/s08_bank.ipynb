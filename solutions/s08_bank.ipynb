{
 "cells": [
  {
   "cell_type": "markdown",
   "metadata": {},
   "source": [
    "# Bank"
   ]
  },
  {
   "cell_type": "code",
   "execution_count": 1,
   "metadata": {},
   "outputs": [],
   "source": [
    "class Account:\n",
    "    def __init__(self, id):\n",
    "        self.id = id\n",
    "        self.balance = 0\n",
    "        self.log = []"
   ]
  },
  {
   "cell_type": "code",
   "execution_count": 2,
   "metadata": {},
   "outputs": [],
   "source": [
    "class MyBank:\n",
    "    def __init__(self):\n",
    "        self.accounts = {}\n",
    "\n",
    "    def open_account(self, id, balance=0):\n",
    "        # Check for conflicting IDs.\n",
    "        if self.check(id):\n",
    "            print(\"An account with this ID already exits.\")\n",
    "            return False\n",
    "        # Create account\n",
    "        self.accounts[id] = Account(id=id)\n",
    "        if balance > 0:\n",
    "            self.update(id=id, amount=balance)\n",
    "        return True\n",
    "\n",
    "    def update(self, id, amount, t_id=None):\n",
    "        \"\"\"Pass t_id as other person's ID when using this function for transact.\"\"\"\n",
    "        # Does the user have an account?\n",
    "        if not self.check(id):\n",
    "            return False\n",
    "\n",
    "        if amount == 0:\n",
    "            return True\n",
    "\n",
    "        # Does the user have sufficient balance?\n",
    "        if self.accounts[id].balance + amount < 0:\n",
    "            print(\"Insufficient balance\")\n",
    "            return False\n",
    "\n",
    "        # Update the balance\n",
    "        self.accounts[id].balance += amount\n",
    "\n",
    "        # Update the log.\n",
    "        # If update() is being used for a transaction, t_id won't be None.\n",
    "        # In that case, add the other person's ID (t_id) instead of current user's (id).\n",
    "        if t_id is None:\n",
    "            self.accounts[id].log.append((id, amount))\n",
    "        else:\n",
    "            self.accounts[id].log.append((t_id, amount))\n",
    "\n",
    "        return True\n",
    "\n",
    "    def check(self, id):\n",
    "        # Does this ID already have an account?\n",
    "        return id in self.accounts\n",
    "\n",
    "    def transact(self, sender_id, receiver_id, amount):\n",
    "        if amount <= 0:\n",
    "            print(\"Please supply a positive amount.\")\n",
    "            return False\n",
    "        # Deduct money from the sender's account.\n",
    "        status = self.update(sender_id, -amount, t_id=receiver_id)\n",
    "        # If the transaction is successful, add money to the receiver's account.\n",
    "        if status:\n",
    "            self.update(receiver_id, amount, t_id=sender_id)\n",
    "            return True\n",
    "        return False\n",
    "\n",
    "    def get_balance(self, id):\n",
    "        return self.accounts[id].balance\n",
    "\n",
    "    def get_statement(self, id):\n",
    "        return self.accounts[id].log\n",
    "\n",
    "    def print_statement(self, id):\n",
    "        print(f\">>> Statement: id #{id}\")\n",
    "        for i, amount in self.get_statement(id):\n",
    "            print(f\"id #{i}: {amount}\")"
   ]
  },
  {
   "cell_type": "code",
   "execution_count": 3,
   "metadata": {},
   "outputs": [
    {
     "name": "stdout",
     "output_type": "stream",
     "text": [
      "{0: <__main__.Account object at 0x10768b2b0>, 1: <__main__.Account object at 0x10768b310>}\n"
     ]
    }
   ],
   "source": [
    "bank = MyBank()\n",
    "bank.open_account(id=0, balance=100)\n",
    "bank.open_account(id=1, balance=500)\n",
    "print(bank.accounts)"
   ]
  },
  {
   "cell_type": "code",
   "execution_count": 4,
   "metadata": {},
   "outputs": [
    {
     "name": "stdout",
     "output_type": "stream",
     "text": [
      "100\n",
      "90\n"
     ]
    }
   ],
   "source": [
    "print(bank.get_balance(id=0))\n",
    "bank.update(id=0, amount=-10)\n",
    "print(bank.get_balance(id=0))"
   ]
  },
  {
   "cell_type": "code",
   "execution_count": 5,
   "metadata": {},
   "outputs": [
    {
     "name": "stdout",
     "output_type": "stream",
     "text": [
      "[(0, 100), (0, -10), (1, -50), (1, 5)]\n"
     ]
    }
   ],
   "source": [
    "bank.transact(sender_id=0, receiver_id=1, amount=50)\n",
    "bank.transact(sender_id=1, receiver_id=0, amount=5)\n",
    "print(bank.get_statement(id=0))"
   ]
  },
  {
   "cell_type": "code",
   "execution_count": 6,
   "metadata": {},
   "outputs": [
    {
     "name": "stdout",
     "output_type": "stream",
     "text": [
      ">>> Statement: id #0\n",
      "id #0: 100\n",
      "id #0: -10\n",
      "id #1: -50\n",
      "id #1: 5\n",
      "\n",
      ">>> Statement: id #1\n",
      "id #1: 500\n",
      "id #0: 50\n",
      "id #0: -5\n"
     ]
    }
   ],
   "source": [
    "bank.print_statement(id=0)\n",
    "print()\n",
    "bank.print_statement(id=1)"
   ]
  },
  {
   "cell_type": "code",
   "execution_count": null,
   "metadata": {},
   "outputs": [],
   "source": []
  }
 ],
 "metadata": {
  "kernelspec": {
   "display_name": "Python 3",
   "language": "python",
   "name": "python3"
  },
  "language_info": {
   "codemirror_mode": {
    "name": "ipython",
    "version": 3
   },
   "file_extension": ".py",
   "mimetype": "text/x-python",
   "name": "python",
   "nbconvert_exporter": "python",
   "pygments_lexer": "ipython3",
   "version": "3.9.6"
  }
 },
 "nbformat": 4,
 "nbformat_minor": 2
}
