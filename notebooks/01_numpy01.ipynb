{
 "cells": [
  {
   "cell_type": "markdown",
   "metadata": {},
   "source": [
    "# Practice Problems"
   ]
  },
  {
   "cell_type": "code",
   "execution_count": 1,
   "metadata": {},
   "outputs": [],
   "source": [
    "import numpy as np"
   ]
  },
  {
   "cell_type": "code",
   "execution_count": 2,
   "metadata": {},
   "outputs": [
    {
     "data": {
      "text/plain": [
       "array([10, 11, 12, 13, 14, 15, 16, 17, 18, 19, 20, 21, 22, 23, 24, 25, 26,\n",
       "       27, 28, 29, 30, 31, 32, 33, 34, 35, 36, 37, 38, 39, 40, 41, 42, 43,\n",
       "       44, 45, 46, 47, 48, 49])"
      ]
     },
     "execution_count": 2,
     "metadata": {},
     "output_type": "execute_result"
    }
   ],
   "source": [
    "# Create a vector with values ranging from 10 to 49\n",
    "np.arange(10, 50)"
   ]
  },
  {
   "cell_type": "code",
   "execution_count": 3,
   "metadata": {},
   "outputs": [
    {
     "data": {
      "text/plain": [
       "array([[[0.92643716, 0.68241223, 0.17840982],\n",
       "        [0.08438709, 0.14941472, 0.31675193],\n",
       "        [0.96873987, 0.18418313, 0.27163071]],\n",
       "\n",
       "       [[0.65625572, 0.94281593, 0.70755035],\n",
       "        [0.31423757, 0.29259655, 0.04862958],\n",
       "        [0.6562114 , 0.09294385, 0.92613894]],\n",
       "\n",
       "       [[0.37891268, 0.11539587, 0.53479198],\n",
       "        [0.71725645, 0.13916407, 0.20015314],\n",
       "        [0.17839848, 0.35244643, 0.03860595]]])"
      ]
     },
     "execution_count": 3,
     "metadata": {},
     "output_type": "execute_result"
    }
   ],
   "source": [
    "# Create a vector filled with random values of shape 3x3x3\n",
    "np.random.random(size=(3,3,3))"
   ]
  },
  {
   "cell_type": "code",
   "execution_count": 4,
   "metadata": {},
   "outputs": [
    {
     "data": {
      "text/plain": [
       "array([[[0.92643716, 0.68241223, 0.17840982],\n",
       "        [0.08438709, 0.14941472, 0.31675193],\n",
       "        [0.96873987, 0.18418313, 0.27163071]],\n",
       "\n",
       "       [[0.65625572, 0.94281593, 0.70755035],\n",
       "        [0.31423757, 0.29259655, 0.04862958],\n",
       "        [0.6562114 , 0.09294385, 0.92613894]],\n",
       "\n",
       "       [[0.37891268, 0.11539587, 0.53479198],\n",
       "        [0.71725645, 0.13916407, 0.20015314],\n",
       "        [0.17839848, 0.35244643, 0.03860595]]])"
      ]
     },
     "execution_count": 4,
     "metadata": {},
     "output_type": "execute_result"
    }
   ],
   "source": [
    "a = np.zeros((4,3,3))\n",
    "np.empty(shape=(3,3,3)) #! Don't use empty over random"
   ]
  },
  {
   "cell_type": "code",
   "execution_count": 5,
   "metadata": {},
   "outputs": [
    {
     "data": {
      "text/plain": [
       "array([9, 8, 7, 6, 5, 4, 3, 2, 1, 0])"
      ]
     },
     "execution_count": 5,
     "metadata": {},
     "output_type": "execute_result"
    }
   ],
   "source": [
    "# Create a 1d vector and reverse it.\n",
    "arr = np.arange(10)\n",
    "arr[::-1]"
   ]
  },
  {
   "cell_type": "code",
   "execution_count": 6,
   "metadata": {},
   "outputs": [
    {
     "name": "stdout",
     "output_type": "stream",
     "text": [
      "[[2 2 7 6]\n",
      " [9 5 5 9]\n",
      " [0 2 0 1]]\n",
      "Matrix max: 9\n",
      "Row max: [7 9 2]\n",
      "Col max: [9 5 7 9]\n"
     ]
    }
   ],
   "source": [
    "# Create a 2D matrix filled with random values and report the matrix max, row max, col max\n",
    "arr = np.random.randint(low=0, high=10, size=(3,4))\n",
    "print(arr)\n",
    "\n",
    "print(\"Matrix max:\", arr.max())\n",
    "print(f\"Row max:\", arr.max(axis=1))\n",
    "print(f\"Col max:\", arr.max(axis=0))"
   ]
  },
  {
   "cell_type": "code",
   "execution_count": 7,
   "metadata": {},
   "outputs": [
    {
     "data": {
      "text/plain": [
       "(-1.9539925233402755e-16, 1.0)"
      ]
     },
     "execution_count": 7,
     "metadata": {},
     "output_type": "execute_result"
    }
   ],
   "source": [
    "# Normalization: subtract the mean, divide by the standard deviation\n",
    "arr = np.random.uniform(low=0, high=10_000, size=(50))\n",
    "arr_norm = (arr - arr.mean()) / arr.std() # mean=0, std=1\n",
    "\n",
    "arr_norm.mean(), arr_norm.std()"
   ]
  },
  {
   "cell_type": "code",
   "execution_count": 8,
   "metadata": {},
   "outputs": [
    {
     "name": "stdout",
     "output_type": "stream",
     "text": [
      "[5231.24   15.55] [2912.99    3.01]\n",
      "[0. 0.] [1. 1.]\n"
     ]
    }
   ],
   "source": [
    "# >>> Homework problem\n",
    "# Create a 1d array of 100 weights ranging from 1000 to 10_000\n",
    "# Creata a 1d array of 100 volumes ranging from 10 to 20\n",
    "# Concatenate the two to get an array of shape (100, 2)\n",
    "# Normalize the columns\n",
    "\n",
    "weights = np.random.uniform(low=1_000, high=10_000, size=(100,))\n",
    "volumes = np.random.uniform(low=10, high=20, size=(100,))\n",
    "data = np.concatenate([\n",
    "    np.expand_dims(weights, 1),\n",
    "    np.expand_dims(volumes, 1),\n",
    "], axis=1)\n",
    "print(data.mean(axis=0).round(2), data.std(axis=0).round(2))\n",
    "\n",
    "data_norm = (data - data.mean(axis=0)) / data.std(axis=0)\n",
    "print(data_norm.mean(axis=0).round(2), data_norm.std(axis=0).round(2))"
   ]
  },
  {
   "cell_type": "code",
   "execution_count": 32,
   "metadata": {},
   "outputs": [
    {
     "name": "stdout",
     "output_type": "stream",
     "text": [
      "[5231.24   15.55] [2912.99    3.01]\n",
      "[ 0. -0.] [1. 1.]\n"
     ]
    }
   ],
   "source": [
    "# Alternate solution\n",
    "data = np.vstack([weights, volumes]).T\n",
    "print(data.mean(axis=0).round(2), data.std(axis=0).round(2))\n",
    "\n",
    "data_norm = (data - data.mean(axis=0)) / data.std(axis=0)\n",
    "print(data_norm.mean(axis=0).round(2), data_norm.std(axis=0).round(2))"
   ]
  },
  {
   "cell_type": "markdown",
   "metadata": {},
   "source": [
    "# Conditional Indexing"
   ]
  },
  {
   "cell_type": "code",
   "execution_count": 10,
   "metadata": {},
   "outputs": [
    {
     "data": {
      "text/plain": [
       "array([10, 11, 12, 13, 14, 15, 16, 17, 18, 19, 20, 21, 22, 23, 24, 25, 26,\n",
       "       27, 28, 29, 30, 31, 32, 33, 34, 35, 36, 37, 38, 39, 40, 41, 42, 43,\n",
       "       44, 45, 46, 47, 48, 49])"
      ]
     },
     "execution_count": 10,
     "metadata": {},
     "output_type": "execute_result"
    }
   ],
   "source": [
    "arr = np.arange(10, 50)\n",
    "arr"
   ]
  },
  {
   "cell_type": "code",
   "execution_count": 11,
   "metadata": {},
   "outputs": [
    {
     "data": {
      "text/plain": [
       "array([ True, False,  True, False,  True, False,  True, False,  True,\n",
       "       False,  True, False,  True, False,  True, False,  True, False,\n",
       "        True, False,  True, False,  True, False,  True, False,  True,\n",
       "       False,  True, False,  True, False,  True, False,  True, False,\n",
       "        True, False,  True, False])"
      ]
     },
     "execution_count": 11,
     "metadata": {},
     "output_type": "execute_result"
    }
   ],
   "source": [
    "# Conditional indexing -> Create a boolean mask, use it for indexing\n",
    "mask = arr % 2 == 0\n",
    "mask"
   ]
  },
  {
   "cell_type": "code",
   "execution_count": 12,
   "metadata": {},
   "outputs": [
    {
     "data": {
      "text/plain": [
       "array([10, 12, 14, 16, 18, 20, 22, 24, 26, 28, 30, 32, 34, 36, 38, 40, 42,\n",
       "       44, 46, 48])"
      ]
     },
     "execution_count": 12,
     "metadata": {},
     "output_type": "execute_result"
    }
   ],
   "source": [
    "arr[mask]"
   ]
  },
  {
   "cell_type": "markdown",
   "metadata": {},
   "source": [
    "# Fancy Indexing"
   ]
  },
  {
   "cell_type": "code",
   "execution_count": 13,
   "metadata": {},
   "outputs": [
    {
     "data": {
      "text/plain": [
       "array([10, 13, 16, 19, 22, 25, 28, 31, 34, 37])"
      ]
     },
     "execution_count": 13,
     "metadata": {},
     "output_type": "execute_result"
    }
   ],
   "source": [
    "arr = np.arange(10, 40, 3)\n",
    "arr"
   ]
  },
  {
   "cell_type": "code",
   "execution_count": 14,
   "metadata": {},
   "outputs": [
    {
     "data": {
      "text/plain": [
       "array([16, 28, 19, 13])"
      ]
     },
     "execution_count": 14,
     "metadata": {},
     "output_type": "execute_result"
    }
   ],
   "source": [
    "arr[[2, 6, 3, 1]]"
   ]
  },
  {
   "cell_type": "code",
   "execution_count": 15,
   "metadata": {},
   "outputs": [
    {
     "ename": "TypeError",
     "evalue": "list indices must be integers or slices, not list",
     "output_type": "error",
     "traceback": [
      "\u001b[0;31m---------------------------------------------------------------------------\u001b[0m",
      "\u001b[0;31mTypeError\u001b[0m                                 Traceback (most recent call last)",
      "Cell \u001b[0;32mIn[15], line 1\u001b[0m\n\u001b[0;32m----> 1\u001b[0m \u001b[38;5;28;43mlist\u001b[39;49m\u001b[43m(\u001b[49m\u001b[43marr\u001b[49m\u001b[43m)\u001b[49m\u001b[43m[\u001b[49m\u001b[43m[\u001b[49m\u001b[38;5;241;43m2\u001b[39;49m\u001b[43m,\u001b[49m\u001b[43m \u001b[49m\u001b[38;5;241;43m6\u001b[39;49m\u001b[43m,\u001b[49m\u001b[43m \u001b[49m\u001b[38;5;241;43m3\u001b[39;49m\u001b[43m,\u001b[49m\u001b[43m \u001b[49m\u001b[38;5;241;43m1\u001b[39;49m\u001b[43m]\u001b[49m\u001b[43m]\u001b[49m\n",
      "\u001b[0;31mTypeError\u001b[0m: list indices must be integers or slices, not list"
     ]
    }
   ],
   "source": [
    "list(arr)[[2, 6, 3, 1]]"
   ]
  },
  {
   "cell_type": "code",
   "execution_count": 16,
   "metadata": {},
   "outputs": [
    {
     "name": "stdout",
     "output_type": "stream",
     "text": [
      "[77 90 69 95 93 93 86 74 67 76 84 91 99 91 78 55 74 66 97 99 95 51 76 58\n",
      " 91 69 73 51 63 58 96 55 84 94 81 76 57 72 54 77 50 73 93 82 65 81 97 66\n",
      " 74 97]\n"
     ]
    }
   ],
   "source": [
    "# Create an array, `arr`, with of integers 50 to 100.\n",
    "# Create an array, `random_indices`, of 50 elements with random indices to index `arr`\n",
    "# Shuffle `arr` using `random_indices`.\n",
    "arr = np.arange(50, 100)\n",
    "random_indices = np.random.randint(low=0, high=50, size=50)\n",
    "print(arr[random_indices])"
   ]
  },
  {
   "cell_type": "markdown",
   "metadata": {},
   "source": [
    "# System of linear equations"
   ]
  },
  {
   "cell_type": "code",
   "execution_count": 17,
   "metadata": {},
   "outputs": [
    {
     "name": "stdout",
     "output_type": "stream",
     "text": [
      "[-2.    2.25]\n"
     ]
    }
   ],
   "source": [
    "# Define the coefficient matrix A.\n",
    "A = np.array([[2, 4], \n",
    "             [6, 8]])\n",
    "\n",
    "# Define the constant vector b.\n",
    "b = np.array([5, 6])\n",
    "\n",
    "# Solve the system of linear equations Ax = b.\n",
    "x = np.linalg.solve(A, b)\n",
    "\n",
    "print(x)"
   ]
  },
  {
   "cell_type": "code",
   "execution_count": 18,
   "metadata": {},
   "outputs": [
    {
     "data": {
      "text/plain": [
       "array([-2.  ,  2.25])"
      ]
     },
     "execution_count": 18,
     "metadata": {},
     "output_type": "execute_result"
    }
   ],
   "source": [
    "# Manual\n",
    "np.linalg.inv(A) @ b"
   ]
  },
  {
   "cell_type": "markdown",
   "metadata": {},
   "source": [
    "# Pseudo-randomness"
   ]
  },
  {
   "cell_type": "code",
   "execution_count": 19,
   "metadata": {},
   "outputs": [
    {
     "data": {
      "text/plain": [
       "array([44])"
      ]
     },
     "execution_count": 19,
     "metadata": {},
     "output_type": "execute_result"
    }
   ],
   "source": [
    "np.random.seed(0) # Seed allows \"repeatable\" randomness\n",
    "\n",
    "# No matter how many times this cell is run, it'll always produce the same \"random\" integer.\n",
    "np.random.randint(0, 100, 1)"
   ]
  },
  {
   "cell_type": "code",
   "execution_count": 20,
   "metadata": {},
   "outputs": [
    {
     "data": {
      "text/plain": [
       "array([47])"
      ]
     },
     "execution_count": 20,
     "metadata": {},
     "output_type": "execute_result"
    }
   ],
   "source": [
    "# In some jupyter notebooks, previous cell's seed isn't carried to the next cell.\n",
    "# When using a `random` function in a cell, better reset the seed.\n",
    "np.random.randint(0, 100, 1)"
   ]
  },
  {
   "cell_type": "markdown",
   "metadata": {},
   "source": [
    "## Choice"
   ]
  },
  {
   "cell_type": "code",
   "execution_count": 21,
   "metadata": {},
   "outputs": [
    {
     "data": {
      "text/plain": [
       "array([ 0,  1,  2,  3,  4,  5,  6,  7,  8,  9, 10, 11, 12, 13, 14, 15, 16,\n",
       "       17, 18, 19, 20, 21, 22, 23, 24, 25, 26, 27, 28, 29, 30, 31, 32, 33,\n",
       "       34, 35, 36, 37, 38, 39, 40, 41, 42, 43, 44, 45, 46, 47, 48, 49, 50,\n",
       "       51, 52, 53, 54, 55, 56, 57, 58, 59, 60, 61, 62, 63, 64, 65, 66, 67,\n",
       "       68, 69, 70, 71, 72, 73, 74, 75, 76, 77, 78, 79, 80, 81, 82, 83, 84,\n",
       "       85, 86, 87, 88, 89, 90, 91, 92, 93, 94, 95, 96, 97, 98, 99])"
      ]
     },
     "execution_count": 21,
     "metadata": {},
     "output_type": "execute_result"
    }
   ],
   "source": [
    "arr = np.arange(100)\n",
    "arr"
   ]
  },
  {
   "cell_type": "code",
   "execution_count": 22,
   "metadata": {},
   "outputs": [
    {
     "data": {
      "text/plain": [
       "array([64, 67, 67,  9, 83, 21, 36, 87, 70, 88])"
      ]
     },
     "execution_count": 22,
     "metadata": {},
     "output_type": "execute_result"
    }
   ],
   "source": [
    "# could return duplicates\n",
    "np.random.randint(low=0, high=len(arr), size=10)"
   ]
  },
  {
   "cell_type": "code",
   "execution_count": 23,
   "metadata": {},
   "outputs": [
    {
     "data": {
      "text/plain": [
       "array([83, 10, 24,  7, 67, 56, 63, 76, 26,  2])"
      ]
     },
     "execution_count": 23,
     "metadata": {},
     "output_type": "execute_result"
    }
   ],
   "source": [
    "# If replace=False, returns unique numbers\n",
    "np.random.choice(\n",
    "    a=arr,\n",
    "    size=10,\n",
    "    replace=False\n",
    ")"
   ]
  },
  {
   "cell_type": "code",
   "execution_count": 24,
   "metadata": {},
   "outputs": [
    {
     "data": {
      "text/plain": [
       "array([ 6, 54,  2, 53, 99, 43, 57, 82, 95, 96])"
      ]
     },
     "execution_count": 24,
     "metadata": {},
     "output_type": "execute_result"
    }
   ],
   "source": [
    "# Sample numbers such that indices 90-99 are thrice more likely to be sampled\n",
    "probas = np.ones(len(arr))\n",
    "probas[:90] = 1/120\n",
    "probas[90:] = 3/120\n",
    "\n",
    "np.random.choice(\n",
    "    a=arr,\n",
    "    size=10,\n",
    "    replace=False,\n",
    "    p=probas\n",
    ")"
   ]
  },
  {
   "cell_type": "code",
   "execution_count": 25,
   "metadata": {},
   "outputs": [],
   "source": [
    "## Write a function, that returns probability of elements based on ratio\n",
    "def cal_probas_given_ratio(r1, r2, n1, n2):\n",
    "    \"\"\"\n",
    "    Calculate the probability that should be assigned to elements given the probablity ratio.\n",
    "    Example: Some elements should be thrice more likely, r1=1, r2=3, n1=..., n2=...\n",
    "\n",
    "    Args:\n",
    "        r1 (int): Probability ratio of n1 elements.\n",
    "        r2 (int): Probability ratio of n2 elements.\n",
    "        n1 (int): Elements with ratio r1\n",
    "        n2 (int): Elements with ratio r2\n",
    "\n",
    "    Returns:\n",
    "        (float, float): Probability to be assigned to the n1 and n2 elements respectively.\n",
    "    \"\"\"\n",
    "    x = (n1 * r1) + (n2 * r2)\n",
    "    return r1/x, r2/x"
   ]
  },
  {
   "cell_type": "code",
   "execution_count": 26,
   "metadata": {},
   "outputs": [
    {
     "data": {
      "text/plain": [
       "array([26, 67, 94, 61, 96,  9, 33,  1, 93, 73])"
      ]
     },
     "execution_count": 26,
     "metadata": {},
     "output_type": "execute_result"
    }
   ],
   "source": [
    "arr = np.arange(100)\n",
    "\n",
    "p1, p2 = cal_probas_given_ratio(1, 3, 90, 10)\n",
    "probas = np.ones(len(arr))\n",
    "probas[:90] = p1\n",
    "probas[90:] = p2\n",
    "\n",
    "np.random.choice(\n",
    "    a=arr,\n",
    "    size=10,\n",
    "    replace=False,\n",
    "    p=probas\n",
    ")"
   ]
  },
  {
   "cell_type": "code",
   "execution_count": 27,
   "metadata": {},
   "outputs": [
    {
     "data": {
      "text/plain": [
       "array([90, 62, 75, 58, 82, 65, 43, 48, 81, 27])"
      ]
     },
     "execution_count": 27,
     "metadata": {},
     "output_type": "execute_result"
    }
   ],
   "source": [
    "np.random.choice(\n",
    "    a=arr,\n",
    "    size=10,\n",
    "    replace=False,\n",
    ")"
   ]
  },
  {
   "cell_type": "markdown",
   "metadata": {},
   "source": [
    "# Shuffle, Permutation"
   ]
  },
  {
   "cell_type": "code",
   "execution_count": 28,
   "metadata": {},
   "outputs": [
    {
     "name": "stdout",
     "output_type": "stream",
     "text": [
      "[0 1 2 3 4 5 6 7 8 9]\n",
      "[66 47 93 82 38 74 15 89 64 57]\n"
     ]
    }
   ],
   "source": [
    "# Shuffle, permutation\n",
    "print(arr[:10])\n",
    "np.random.shuffle(arr) # inplace function\n",
    "print(arr[:10])\n",
    "\n",
    "# shuffle shuffles input inplace\n",
    "# it doesn't return anything"
   ]
  },
  {
   "cell_type": "code",
   "execution_count": 29,
   "metadata": {},
   "outputs": [
    {
     "data": {
      "text/plain": [
       "array([73,  8, 11, 74, 96, 32, 90, 33, 99, 61, 92, 30, 48, 31, 65, 42, 69,\n",
       "       47, 68, 82, 25, 78, 23, 60, 37, 97, 51, 52, 46, 57, 12, 45, 70, 14,\n",
       "       79, 91, 84, 29, 76,  1, 98, 83,  5, 58, 55,  2, 93, 19, 20, 94,  4,\n",
       "       15, 17, 22, 71, 10, 13, 95, 26, 89, 28, 67, 44, 36, 16, 59, 77, 53,\n",
       "       35, 24, 75,  6,  9, 81, 18, 39,  0, 62, 43, 56,  7, 88, 50, 80,  3,\n",
       "       63, 72, 21, 41, 86, 54, 27, 85, 38, 87, 49, 34, 40, 64, 66])"
      ]
     },
     "execution_count": 29,
     "metadata": {},
     "output_type": "execute_result"
    }
   ],
   "source": [
    "np.random.permutation(arr)\n",
    "\n",
    "# permutation shuffles a copy of the input array\n",
    "# it returns the shuffled array"
   ]
  },
  {
   "cell_type": "markdown",
   "metadata": {},
   "source": [
    "# Distributions"
   ]
  },
  {
   "cell_type": "code",
   "execution_count": 30,
   "metadata": {},
   "outputs": [
    {
     "data": {
      "text/plain": [
       "array([ 1.91427705,  3.83210009,  0.68763514,  4.5623962 ,  5.98896909,\n",
       "       -1.13997005,  3.85251746,  4.35381607,  1.72512595,  2.20545637,\n",
       "        2.73423884,  2.40441824,  2.38197406, -0.35200761,  5.30466313,\n",
       "        5.15923718,  1.37327148,  0.06715134,  4.04212975,  1.84842406])"
      ]
     },
     "execution_count": 30,
     "metadata": {},
     "output_type": "execute_result"
    }
   ],
   "source": [
    "rvs = np.random.normal(loc=3, scale=2, size=(20))\n",
    "rvs"
   ]
  },
  {
   "cell_type": "code",
   "execution_count": 31,
   "metadata": {},
   "outputs": [
    {
     "name": "stdout",
     "output_type": "stream",
     "text": [
      "Help on built-in function normal:\n",
      "\n",
      "normal(...) method of numpy.random.mtrand.RandomState instance\n",
      "    normal(loc=0.0, scale=1.0, size=None)\n",
      "    \n",
      "    Draw random samples from a normal (Gaussian) distribution.\n",
      "    \n",
      "    The probability density function of the normal distribution, first\n",
      "    derived by De Moivre and 200 years later by both Gauss and Laplace\n",
      "    independently [2]_, is often called the bell curve because of\n",
      "    its characteristic shape (see the example below).\n",
      "    \n",
      "    The normal distributions occurs often in nature.  For example, it\n",
      "    describes the commonly occurring distribution of samples influenced\n",
      "    by a large number of tiny, random disturbances, each with its own\n",
      "    unique distribution [2]_.\n",
      "    \n",
      "    .. note::\n",
      "        New code should use the `~numpy.random.Generator.normal`\n",
      "        method of a `~numpy.random.Generator` instance instead;\n",
      "        please see the :ref:`random-quick-start`.\n",
      "    \n",
      "    Parameters\n",
      "    ----------\n",
      "    loc : float or array_like of floats\n",
      "        Mean (\"centre\") of the distribution.\n",
      "    scale : float or array_like of floats\n",
      "        Standard deviation (spread or \"width\") of the distribution. Must be\n",
      "        non-negative.\n",
      "    size : int or tuple of ints, optional\n",
      "        Output shape.  If the given shape is, e.g., ``(m, n, k)``, then\n",
      "        ``m * n * k`` samples are drawn.  If size is ``None`` (default),\n",
      "        a single value is returned if ``loc`` and ``scale`` are both scalars.\n",
      "        Otherwise, ``np.broadcast(loc, scale).size`` samples are drawn.\n",
      "    \n",
      "    Returns\n",
      "    -------\n",
      "    out : ndarray or scalar\n",
      "        Drawn samples from the parameterized normal distribution.\n",
      "    \n",
      "    See Also\n",
      "    --------\n",
      "    scipy.stats.norm : probability density function, distribution or\n",
      "        cumulative density function, etc.\n",
      "    random.Generator.normal: which should be used for new code.\n",
      "    \n",
      "    Notes\n",
      "    -----\n",
      "    The probability density for the Gaussian distribution is\n",
      "    \n",
      "    .. math:: p(x) = \\frac{1}{\\sqrt{ 2 \\pi \\sigma^2 }}\n",
      "                     e^{ - \\frac{ (x - \\mu)^2 } {2 \\sigma^2} },\n",
      "    \n",
      "    where :math:`\\mu` is the mean and :math:`\\sigma` the standard\n",
      "    deviation. The square of the standard deviation, :math:`\\sigma^2`,\n",
      "    is called the variance.\n",
      "    \n",
      "    The function has its peak at the mean, and its \"spread\" increases with\n",
      "    the standard deviation (the function reaches 0.607 times its maximum at\n",
      "    :math:`x + \\sigma` and :math:`x - \\sigma` [2]_).  This implies that\n",
      "    normal is more likely to return samples lying close to the mean, rather\n",
      "    than those far away.\n",
      "    \n",
      "    References\n",
      "    ----------\n",
      "    .. [1] Wikipedia, \"Normal distribution\",\n",
      "           https://en.wikipedia.org/wiki/Normal_distribution\n",
      "    .. [2] P. R. Peebles Jr., \"Central Limit Theorem\" in \"Probability,\n",
      "           Random Variables and Random Signal Principles\", 4th ed., 2001,\n",
      "           pp. 51, 51, 125.\n",
      "    \n",
      "    Examples\n",
      "    --------\n",
      "    Draw samples from the distribution:\n",
      "    \n",
      "    >>> mu, sigma = 0, 0.1 # mean and standard deviation\n",
      "    >>> s = np.random.normal(mu, sigma, 1000)\n",
      "    \n",
      "    Verify the mean and the variance:\n",
      "    \n",
      "    >>> abs(mu - np.mean(s))\n",
      "    0.0  # may vary\n",
      "    \n",
      "    >>> abs(sigma - np.std(s, ddof=1))\n",
      "    0.1  # may vary\n",
      "    \n",
      "    Display the histogram of the samples, along with\n",
      "    the probability density function:\n",
      "    \n",
      "    >>> import matplotlib.pyplot as plt\n",
      "    >>> count, bins, ignored = plt.hist(s, 30, density=True)\n",
      "    >>> plt.plot(bins, 1/(sigma * np.sqrt(2 * np.pi)) *\n",
      "    ...                np.exp( - (bins - mu)**2 / (2 * sigma**2) ),\n",
      "    ...          linewidth=2, color='r')\n",
      "    >>> plt.show()\n",
      "    \n",
      "    Two-by-four array of samples from the normal distribution with\n",
      "    mean 3 and standard deviation 2.5:\n",
      "    \n",
      "    >>> np.random.normal(3, 2.5, size=(2, 4))\n",
      "    array([[-4.49401501,  4.00950034, -1.81814867,  7.29718677],   # random\n",
      "           [ 0.39924804,  4.68456316,  4.99394529,  4.84057254]])  # random\n",
      "\n"
     ]
    }
   ],
   "source": [
    "help(np.random.normal)"
   ]
  },
  {
   "cell_type": "code",
   "execution_count": null,
   "metadata": {},
   "outputs": [],
   "source": []
  }
 ],
 "metadata": {
  "kernelspec": {
   "display_name": "Python 3",
   "language": "python",
   "name": "python3"
  },
  "language_info": {
   "codemirror_mode": {
    "name": "ipython",
    "version": 3
   },
   "file_extension": ".py",
   "mimetype": "text/x-python",
   "name": "python",
   "nbconvert_exporter": "python",
   "pygments_lexer": "ipython3",
   "version": "3.9.6"
  }
 },
 "nbformat": 4,
 "nbformat_minor": 2
}
